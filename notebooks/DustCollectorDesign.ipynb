{
 "cells": [
  {
   "cell_type": "markdown",
   "id": "7cbaeeae",
   "metadata": {},
   "source": [
    "# Dust Collector Control System\n",
    "\n",
    "Welcome to the *vade mecum* for the dust collection control system. This notebook documents the design, logic, and hardware/software integration for the project.\n",
    "\n",
    "It’s written to be clear, practical, and useful for future reference or modification.  Why?\n",
    "\n",
    "> “Memories are messages from past-you to present-you.”  \n",
    "> — Mike Levin\n",
    "> \n",
    "> If Mike were here, he'd probably grin and say,\n",
    "> \n",
    "> \"Make the messages clear. You never know how dumb future-you might be.\"\n",
    "> 😄 *(quoted via Bob, in a moment of clarity and wire fumes)*\n",
    "\n"
   ]
  },
  {
   "cell_type": "markdown",
   "id": "2a7b37db-03cc-44f9-b283-03228f372683",
   "metadata": {},
   "source": [
    "# How I Got Here\n",
    "\n",
    "The project is an outgrowth of a major rework of the woodshop to improve usability, tool storage, and install a state-of-the-art dust collection system to replace the 25-year-old felt-bag setup.\n",
    "\n",
    "I began by stripping the walls of the (stupid and ugly) pegboard mess I’d created, and installing a pleasant-looking French cleat system on three walls. This lets me keep things off the floor and stored in their own special places so I know where to find them, and where to put them back.\n",
    "\n",
    "Along the way, I decided to add some automation. I had previously wired the blast gates so that opening a (homemade) gate would trip a microswitch, turning on a solid-state relay and starting the dust collector motor. When the gate closed, the microswitch disengaged and the motor shut off. Not having to walk over and flip a switch was a major convenience.\n",
    "\n",
    "With the new dust collector, I wanted even more automation. The plan: use a split-core transformer around one of the wires leading to each machine (table saw, drill press, lathe, etc.) to detect when it turned on, then automatically open the corresponding blast gate and start the dust collector motor. When the machine shut off, the gate would close and the collector would turn off a few seconds later to flush the duct.\n",
    "\n",
    "I started buying parts—plastic dust gates with rotating 'wipers', linear actuators, current sensors, stepper motors and controllers. But I decided to build my own blast gates again: I was upgrading from 4″ to 5″ ducts, and the commercial options seemed leaky, flimsy, or awkward to mount actuators on.\n",
    "\n",
    "I chose a Raspberry Pi 4B as the brains of the system. Sure, it could be done with less—but I have big plans: switches, LEDs, monitors, temperature and air quality sensors, sound effects—whatever amuses me.\n",
    "\n",
    "I also named my OpenAI ChatGPT account “Bob,” in honor of a brilliant and dear friend who passed away recently. Bob and I are collaborating on this project. For that reason, I can’t take credit for most of the elegant code herein—I just *told him to do it!*\n"
   ]
  },
  {
   "cell_type": "markdown",
   "id": "f42554b1-7a4b-429f-835a-4d8c6244c96f",
   "metadata": {},
   "source": [
    "# The Top Level of the System\n",
    "\n"
   ]
  },
  {
   "cell_type": "markdown",
   "id": "b2ebe410-2a41-4eff-b426-c7b2e17276eb",
   "metadata": {},
   "source": [
    "## Python --  Why?\n",
    "The language of choice is Python -- a language of deep and subtle beauty with a wealth of useful libraries for\n",
    "embedded systems.  I can also use VSCode remotely from other machines to run and debug code on the Pi.  Oh brave\n",
    "new world, that has such things in it.\n"
   ]
  },
  {
   "cell_type": "markdown",
   "id": "bdcc38c2-e419-4daf-bc91-777f8698c71b",
   "metadata": {},
   "source": [
    "## Directory Structure\n",
    "```\n",
    "DustCollector/\n",
    "├── core/                ← 🟢 Shared abstractions go here\n",
    "│   └── actuator.py      ← Defines Actuator base class\n",
    "├── hardware/\n",
    "│   └── real_actuator.py ← Inherits from Actuator\n",
    "├── mock/\n",
    "│   └── fake_actuator.py ← Inherits from Actuator\n",
    "├── notebooks/\n",
    "├── main.py\n",
    "```\n",
    "\n",
    "```\n",
    "DustCollector/\n",
    "├── code/                  # Top-level source code\n",
    "│   ├── anaconda_projects/ # Artifact of Jupyter/Anaconda install\n",
    "│   │   └── db/            # (Unused system metadata)\n",
    "│   ├── hardware/          # Hardware-specific code (GPIO, sensors, etc.)\n",
    "│   ├── images/            # Source diagrams, photos, and figures\n",
    "│   ├── mock/              # Mock implementations for testing/dev\n",
    "│   ├── notebooks/         # This Jupyter-based design document\n",
    "│   ├── __pycache__/       # Auto-generated Python bytecode\n",
    "│   └── test/              # Test scripts used during bring-up\n",
    "└── docs/                  # Other docs (PDFs, notes, exports)\n",
    "```"
   ]
  },
  {
   "cell_type": "markdown",
   "id": "1ad0585f-a706-4bd0-9270-85c04c5bbbee",
   "metadata": {},
   "source": [
    "## Coding Style\n",
    "\n",
    "* PEP8-compliant\n",
    "* black -l 79 compliant\n",
    "* flake8 compliant\n",
    "* Modules: snake_case\n",
    "* Classes: CamelCase\n",
    "* Methods & variables: snake_case"
   ]
  },
  {
   "cell_type": "markdown",
   "id": "bdf4f7bf-f703-4042-a49e-ae06412612bf",
   "metadata": {},
   "source": [
    "### Gate Control State Machine\n",
    "\n",
    "This diagram shows the states a gate can go through based on machine activity, motor state, and timer events.\n",
    "\n",
    "![Gate state diagram](../images/gate-states.jpg)\n",
    "\n",
    "This is a Moore-style state machine, meaning that the system’s outputs depend entirely on its current state—not directly on the inputs. Inputs trigger state transitions, and each state determines the system’s behavior. The interesting part happens in the **transitions**, which define how and when the system moves from one state to another.\n",
    "\n",
    "\n",
    "Each transition is labeled with the event that triggers it, followed by a separator line and a summary of the actions taken *before* entering the new state. For clarity, these actions are usually wrapped as function calls rather than coded inline.\n",
    "\n",
    "The trickiest part is managing multiple gates in a way that mimics intelligent human behavior. For example: if two gates are open, the dust collector shouldn't turn off until **both** are closed.\n",
    "\n",
    "Each state checks specific conditions and responds accordingly. Note that the **timer** here is a singleton shared by all gates—it gets reset by *any* gate. This allows the system to keep the motor running as long as at least one gate is open, regardless of the order in which gates are opened or closed.\n",
    "\n",
    "Bob has been instrumental in showing how to implement this sort of thing using Python's asyncio package.\n",
    "\n"
   ]
  },
  {
   "cell_type": "code",
   "execution_count": null,
   "id": "6989a1d4-94f9-4df4-8686-44f43c70a4b4",
   "metadata": {},
   "outputs": [],
   "source": []
  },
  {
   "cell_type": "markdown",
   "id": "b11e52ed",
   "metadata": {},
   "source": [
    "## Hardware Overview\n",
    "\n",
    "- **Raspberry Pi 4B**: main controller\n",
    "- Multiple instances of the **MCP23017** digital I/O expander: for digital I/O (switches, LEDs, stepper control)\n",
    "- Multiple **DRV8825 / TMC2209**: stepper drivers\n",
    "- Multiple **Stepper motors**: open and close blast gates\n",
    "- Multiple **Limit switches** (two per gate): detect gate open/closed\n",
    "- Multiple **General purpose switches** to control things like auto/manual operation of gates, and whatever else I think of\n",
    "- Multiple **LEDs** for indicators, flashy thingies, etc.\n",
    "- Multiple **Current sensors** (one for each machine with a blast gate): detect machine activity\n",
    "- Multiple **Display** -- some simple LCD, some 7-segment, some monitors, for whatever I want to do with them\n",
    "- Multiple **Temperature sensors** (hell, why not?)\n",
    "- A very capable Air Quality Monitor to determine how much particulate matter of given sizes is in the atmosphere so I can turn on a fan for the [Corsi-Rosenthal air filter](https://cleanaircrew.org/box-fan-filters/), and make sure it stays on long enough to clear the air.\n",
    "- **5V and 12V power supplies** (to be mounted _outside_ the enclosure)  5V is for logic and Raspberry Pi, 12V for actuators\n",
    "\n",
    "Wiring and terminal blocks are used to route signals cleanly into the controller enclosure.  Circuits to be mounted on acrylic boards with standoffs as needed.  My goal is to have something that\n",
    "looks more or less like an adult did it, and not some high-school kid. That means a nice enclosure, nicely mounted circuit boards,\n",
    "nicely routed wiring, connectors to the outside world, etc.\n",
    "\n",
    "[link text](https://example.com)\n"
   ]
  },
  {
   "cell_type": "markdown",
   "id": "e0e42e3b-42aa-455c-80fd-5866cb892c5f",
   "metadata": {},
   "source": [
    "## Software Architecture\n",
    "\n",
    "The system is composed of:\n",
    "- A high level controller that manages system operation\n",
    "- `Actuator` objects, which control each gate (note -- Actuators can be either linear or stepper motors)\n",
    "- Event detection logic from current sensors\n",
    "- Async control loop that monitors events and runs state transitions\n",
    "\n",
    "There are still details to be worked out regarding manual/auto control, such as:\n",
    "- is each individual gate controllable manually, or does manual mode apply to all?\n",
    "- what switches for manual mode -- momentary contact, dpdt, etc.\n",
    "\n",
    "Look for a # Manual/Auto Mode section below\n",
    "\n",
    "\n",
    "Each gate runs independently, responding to machine activity or manual control."
   ]
  },
  {
   "cell_type": "markdown",
   "id": "ef6ae21c-a614-4510-bd1e-c535e7ffdb35",
   "metadata": {},
   "source": [
    "## Class Structure\n",
    "\n",
    "We'll start with the actuators that actually move things.  An `Actuator` is an abstract base class that supports basic 'open' and 'close' operations.  From this are derived more specific types of actuators.  For example, a simple linear actuator just needs a few seconds of\n",
    "12V applied to it to open or close, and a couple of limit switches to know when to stop. \\[Most of these have limit switches internally, but I can't seem to find one that has exactly the travel I need, so ...\\]\n",
    "\n",
    "A slightly more complicated actuator uses a stepper motor to drive a rack-and-pinion system to move the gate, plus the usual limit switches.  This requires considerably more GPIO pins than the Pi can support, hence the multiplicity of MCP23017 expanders.\n",
    "\n",
    "I suppose other types of actuators could be used -- I've seen Youtube videos of people using pneumatic actuators and so on.\n",
    "\n",
    "In any case, the interface is simple -- open() or close(), as shown in the code below:"
   ]
  },
  {
   "cell_type": "code",
   "execution_count": 78,
   "id": "f70552fc",
   "metadata": {},
   "outputs": [],
   "source": [
    "# Example: base class stub for an actuator\n",
    "class Actuator:\n",
    "    def __init__(self, name):\n",
    "        self.name = name\n",
    "        self.mode = 'auto'  # or 'manual'\n",
    "        self.state = 'closed'\n",
    "\n",
    "    def open(self):\n",
    "        print(f\"Opening gate {self.name}\")\n",
    "        self.state = 'open'\n",
    "\n",
    "    def close(self):\n",
    "        print(f\"Closing gate {self.name}\")\n",
    "        self.state = 'closed'\n",
    "\n"
   ]
  },
  {
   "cell_type": "markdown",
   "id": "b9049250",
   "metadata": {},
   "source": [
    "## Notes\n",
    "\n",
    "- Details of how to manage auto/manual mode are TBD.\n",
    "- Manual control uses switches wired to GPIO via MCP23017.\n",
    "- LED indicators reflect mode (green for auto, red for manual).\n",
    "\n",
    "We’ll flesh this out in later sections, including event loop logic and integration with actual GPIO libraries."
   ]
  },
  {
   "cell_type": "markdown",
   "id": "2ccdd2ad-e14b-4385-833e-5a5bc07f5631",
   "metadata": {},
   "source": [
    "Next, we can look at the StepperActuator class that actually drives the stepper motor, checks the limit switches and handles timeouts in the event that something is stuck."
   ]
  },
  {
   "cell_type": "code",
   "execution_count": 106,
   "id": "7e86ca01-be72-45c4-bbcc-6c4dd4340a5e",
   "metadata": {},
   "outputs": [
    {
     "ename": "ModuleNotFoundError",
     "evalue": "No module named 'code.actuator'; 'code' is not a package",
     "output_type": "error",
     "traceback": [
      "\u001b[0;31m---------------------------------------------------------------------------\u001b[0m",
      "\u001b[0;31mModuleNotFoundError\u001b[0m                       Traceback (most recent call last)",
      "Cell \u001b[0;32mIn[106], line 5\u001b[0m\n\u001b[1;32m      2\u001b[0m \u001b[38;5;28;01mimport\u001b[39;00m\u001b[38;5;250m \u001b[39m\u001b[38;5;21;01mos\u001b[39;00m\n\u001b[1;32m      3\u001b[0m sys\u001b[38;5;241m.\u001b[39mpath\u001b[38;5;241m.\u001b[39mappend(os\u001b[38;5;241m.\u001b[39mpath\u001b[38;5;241m.\u001b[39mabspath(\u001b[38;5;124m\"\u001b[39m\u001b[38;5;124m..\u001b[39m\u001b[38;5;124m\"\u001b[39m))\n\u001b[0;32m----> 5\u001b[0m \u001b[38;5;28;01mfrom\u001b[39;00m\u001b[38;5;250m \u001b[39m\u001b[38;5;21;01mcode\u001b[39;00m\u001b[38;5;21;01m.\u001b[39;00m\u001b[38;5;21;01mactuator\u001b[39;00m\u001b[38;5;250m \u001b[39m\u001b[38;5;28;01mimport\u001b[39;00m Actuator\n\u001b[1;32m      6\u001b[0m \u001b[38;5;28;01mimport\u001b[39;00m\u001b[38;5;250m \u001b[39m\u001b[38;5;21;01mtime\u001b[39;00m\n\u001b[1;32m      9\u001b[0m \u001b[38;5;28;01mclass\u001b[39;00m\u001b[38;5;250m \u001b[39m\u001b[38;5;21;01mStepperController\u001b[39;00m(Actuator):\n",
      "\u001b[0;31mModuleNotFoundError\u001b[0m: No module named 'code.actuator'; 'code' is not a package"
     ]
    }
   ],
   "source": [
    "import sys\n",
    "import os\n",
    "sys.path.append(os.path.abspath(\"..\"))\n",
    "\n",
    "from code.actuator import Actuator\n",
    "import time\n",
    "\n",
    "\n",
    "class StepperController(Actuator):\n",
    "    \"\"\"Stepper motor actuator using DRV8825/TMC2209 + MCP23017.\"\"\"\n",
    "\n",
    "    def __init__(self, id, name, mcp, dir_pin, step_pin, en_pin,\n",
    "                 limit_switch_open_id, limit_switch_closed_id,\n",
    "                 switch_controller, steps_per_action=400, delay=0.002):\n",
    "        super().__init__(id, name)\n",
    "        self.mcp = mcp\n",
    "        self.dir_pin = self.mcp.get_pin(dir_pin)\n",
    "        self.step_pin = self.mcp.get_pin(step_pin)\n",
    "        self.en_pin = self.mcp.get_pin(en_pin)\n",
    "        self.switch_controller = switch_controller\n",
    "        self.limit_switch_open_id = limit_switch_open_id\n",
    "        self.limit_switch_closed_id = limit_switch_closed_id\n",
    "        self.steps_per_action = steps_per_action\n",
    "        self.delay = delay\n",
    "        self.position = \"unknown\"\n",
    "\n",
    "        self.dir_pin.direction = True\n",
    "        self.step_pin.direction = True\n",
    "        self.en_pin.direction = True\n",
    "        self.disable()\n",
    "        self.home()\n",
    "\n",
    "    def enable(self):\n",
    "        self.en_pin.value = False\n",
    "\n",
    "    def disable(self):\n",
    "        self.en_pin.value = True\n",
    "\n",
    "    def move(self, direction, target_switch_id):\n",
    "        self.dir_pin.value = direction\n",
    "        self.enable()\n",
    "        step_counter = 0\n",
    "        while step_counter < self.steps_per_action:\n",
    "            if self.switch_controller.read_switch(target_switch_id):\n",
    "                print(f\"{self.name} limit switch {target_switch_id} hit.\")\n",
    "                break\n",
    "            self.step_pin.value = True\n",
    "            time.sleep(self.delay)\n",
    "            self.step_pin.value = False\n",
    "            time.sleep(self.delay)\n",
    "            step_counter += 1\n",
    "        self.disable()\n",
    "\n",
    "    def open(self):\n",
    "        print(f\"{self.name} opening...\")\n",
    "        self.move(direction=1, target_switch_id=self.limit_switch_open_id)\n",
    "        self.position = \"open\"\n",
    "\n",
    "    def close(self):\n",
    "        print(f\"{self.name} closing...\")\n",
    "        self.move(direction=0, target_switch_id=self.limit_switch_closed_id)\n",
    "        self.position = \"closed\""
   ]
  },
  {
   "cell_type": "code",
   "execution_count": null,
   "id": "f7223dc4-abd9-4727-a760-a41d12ba98e8",
   "metadata": {},
   "outputs": [],
   "source": []
  }
 ],
 "metadata": {
  "kernelspec": {
   "display_name": "Python [conda env:base] *",
   "language": "python",
   "name": "conda-base-py"
  },
  "language_info": {
   "codemirror_mode": {
    "name": "ipython",
    "version": 3
   },
   "file_extension": ".py",
   "mimetype": "text/x-python",
   "name": "python",
   "nbconvert_exporter": "python",
   "pygments_lexer": "ipython3",
   "version": "3.12.7"
  }
 },
 "nbformat": 4,
 "nbformat_minor": 5
}
